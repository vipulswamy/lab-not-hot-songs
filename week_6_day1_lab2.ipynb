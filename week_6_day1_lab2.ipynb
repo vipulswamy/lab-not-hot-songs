{
 "cells": [
  {
   "cell_type": "code",
   "execution_count": 57,
   "id": "818987be",
   "metadata": {},
   "outputs": [],
   "source": [
    "import pandas as pd  \n",
    "import numpy as np"
   ]
  },
  {
   "cell_type": "code",
   "execution_count": 93,
   "id": "718e08b0",
   "metadata": {},
   "outputs": [],
   "source": [
    "def rename_rearrange():\n",
    "    file1 = pd.read_csv('not_hot_cleaned.csv') #not hot songs list gathered from : https://github.com/angrbrd/top5000-playlist\n",
    "    file2 = pd.read_excel('trello_music.xlsx') # collected from our trello board of iron hack\n",
    "    not_hot_list = pd.DataFrame\n",
    "    hot_list = pd.read_csv('hot_100.csv')\n",
    "    #rename coloumns and rearrange them\n",
    "    file2= file2.rename({'Title':'Song','Band':'Artist'}, axis = 1)\n",
    "    #swamp coloumns of trello music\n",
    "    file2 = file2.reindex(columns = [\"Artist\",\"Song\"])\n",
    "    #concat the songs lists from file 1 and file 2\n",
    "    data = pd.concat([file1,file2])\n",
    "    #convert to lower case to easily compare the songs in all the lists\n",
    "    not_hot_list = data.apply(lambda x: x.str.lower())\n",
    "    hot_list = hot_list.apply(lambda x: x.str.lower())\n",
    "    comparator_df = pd.concat([not_hot_list,hot_list], axis=0)\n",
    "    if comparator_df.value_counts().empty:\n",
    "        print(\"no duplicates found in the hot list\")\n",
    "        return data\n",
    "   # elif  comparator_df.nunique().any:  \n",
    "        #print(\"hot list unique\")\n",
    "        \n",
    "    else:\n",
    "        print(\"please verify hot list\")\n",
    "         \n",
    "    "
   ]
  },
  {
   "cell_type": "code",
   "execution_count": 94,
   "id": "3d64b02e",
   "metadata": {
    "scrolled": true
   },
   "outputs": [
    {
     "name": "stdout",
     "output_type": "stream",
     "text": [
      "no duplicates found in the hot list\n"
     ]
    },
    {
     "data": {
      "text/html": [
       "<div>\n",
       "<style scoped>\n",
       "    .dataframe tbody tr th:only-of-type {\n",
       "        vertical-align: middle;\n",
       "    }\n",
       "\n",
       "    .dataframe tbody tr th {\n",
       "        vertical-align: top;\n",
       "    }\n",
       "\n",
       "    .dataframe thead th {\n",
       "        text-align: right;\n",
       "    }\n",
       "</style>\n",
       "<table border=\"1\" class=\"dataframe\">\n",
       "  <thead>\n",
       "    <tr style=\"text-align: right;\">\n",
       "      <th></th>\n",
       "      <th>Artist</th>\n",
       "      <th>Song</th>\n",
       "    </tr>\n",
       "  </thead>\n",
       "  <tbody>\n",
       "    <tr>\n",
       "      <th>0</th>\n",
       "      <td>Bing Crosby</td>\n",
       "      <td>White Christmas</td>\n",
       "    </tr>\n",
       "    <tr>\n",
       "      <th>1</th>\n",
       "      <td>Bill Haley &amp; his Comets</td>\n",
       "      <td>Rock Around the Clock</td>\n",
       "    </tr>\n",
       "    <tr>\n",
       "      <th>2</th>\n",
       "      <td>Celine Dion</td>\n",
       "      <td>My Heart Will Go On</td>\n",
       "    </tr>\n",
       "    <tr>\n",
       "      <th>3</th>\n",
       "      <td>Sinead O'Connor</td>\n",
       "      <td>Nothing Compares 2 U</td>\n",
       "    </tr>\n",
       "    <tr>\n",
       "      <th>4</th>\n",
       "      <td>The Beatles</td>\n",
       "      <td>Hey Jude</td>\n",
       "    </tr>\n",
       "    <tr>\n",
       "      <th>...</th>\n",
       "      <td>...</td>\n",
       "      <td>...</td>\n",
       "    </tr>\n",
       "    <tr>\n",
       "      <th>22</th>\n",
       "      <td>Elton John</td>\n",
       "      <td>I'm still standing</td>\n",
       "    </tr>\n",
       "    <tr>\n",
       "      <th>23</th>\n",
       "      <td>Dover</td>\n",
       "      <td>Serenade me</td>\n",
       "    </tr>\n",
       "    <tr>\n",
       "      <th>24</th>\n",
       "      <td>Queen</td>\n",
       "      <td>I want it all</td>\n",
       "    </tr>\n",
       "    <tr>\n",
       "      <th>25</th>\n",
       "      <td>Sultans of Ping FC</td>\n",
       "      <td>Where's me jumper?</td>\n",
       "    </tr>\n",
       "    <tr>\n",
       "      <th>26</th>\n",
       "      <td>Jorge Cafrune</td>\n",
       "      <td>No soy de aquí ni soy de allá</td>\n",
       "    </tr>\n",
       "  </tbody>\n",
       "</table>\n",
       "<p>2527 rows × 2 columns</p>\n",
       "</div>"
      ],
      "text/plain": [
       "                     Artist                            Song\n",
       "0               Bing Crosby                 White Christmas\n",
       "1   Bill Haley & his Comets           Rock Around the Clock\n",
       "2               Celine Dion             My Heart Will Go On\n",
       "3           Sinead O'Connor            Nothing Compares 2 U\n",
       "4               The Beatles                        Hey Jude\n",
       "..                      ...                             ...\n",
       "22               Elton John             I'm still standing \n",
       "23                    Dover                    Serenade me \n",
       "24                    Queen                  I want it all \n",
       "25       Sultans of Ping FC             Where's me jumper? \n",
       "26            Jorge Cafrune  No soy de aquí ni soy de allá \n",
       "\n",
       "[2527 rows x 2 columns]"
      ]
     },
     "execution_count": 94,
     "metadata": {},
     "output_type": "execute_result"
    }
   ],
   "source": [
    "not_hot_list = rename_rearrange()\n",
    "not_hot_list\n",
    "#find_duplicates(not_hot_list,hot_list)\n"
   ]
  },
  {
   "cell_type": "markdown",
   "id": "68a23e6a",
   "metadata": {},
   "source": [
    "#### 2. there seems like the songs on hot 100 are unique"
   ]
  },
  {
   "cell_type": "code",
   "execution_count": null,
   "id": "645d698b",
   "metadata": {},
   "outputs": [],
   "source": []
  }
 ],
 "metadata": {
  "kernelspec": {
   "display_name": "Python 3 (ipykernel)",
   "language": "python",
   "name": "python3"
  },
  "language_info": {
   "codemirror_mode": {
    "name": "ipython",
    "version": 3
   },
   "file_extension": ".py",
   "mimetype": "text/x-python",
   "name": "python",
   "nbconvert_exporter": "python",
   "pygments_lexer": "ipython3",
   "version": "3.9.12"
  }
 },
 "nbformat": 4,
 "nbformat_minor": 5
}
